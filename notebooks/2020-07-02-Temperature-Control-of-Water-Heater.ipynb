{
 "cells": [
  {
   "cell_type": "markdown",
   "metadata": {},
   "source": [
    "Have you ever wondered, how the control of the water heater in your home works? In Germany, there are two types of water heaters: 1) flow heaters (<i>Durchlauferhitzer</i>), where water will be heated up as it flows out of the water tap, or 2) water boilers (<i>Warmwasserspeicher</i>), where warm water is stored in a tank continuously.\n",
    "\n",
    "Out of curiousity, I want to present the functionality and the power consumption of such water heaters in the following simulation. As a model, I will take the water boiler and consider the following process. The tank of the water boiler has a volume of $V = 10\\,L$. The heating process is electrical with the heat flow $Q$. We will assume that the water is used continuously, meaning the inflow and outflow of the water is constant with $F = 0.15\\,\\frac{L}{s}$. The temperature of the water outlet should be at $42^\\circ{}C$. At the beginning, the tank is already filled with water with the same temperature as the inlet $T_\\alpha = 20^\\circ{}C$.\n",
    "\n",
    "#### Nomeclature\n",
    "| Symbol | |\n",
    "|---|---|\n",
    "| $U$ | Internal energy |\n",
    "| $H$ | Enthalpy flow rate |\n",
    "| $F$ | Water flow rate in $m^3\\,s^{-1}$ |\n",
    "| $V$ | Tank volume in $m^3$ |\n",
    "| $T$ | Temperature in $K$ |\n",
    "| $Q$ | Heat flow rate in $W$ |\n",
    "| $\\rho$ | Water density in $kg\\,m^{-3}$ |\n",
    "| $c_p$ | Heat capacity of water in $J\\,kg^{-1}\\,K^{-1}$ |"
   ]
  },
  {
   "cell_type": "markdown",
   "metadata": {},
   "source": [
    "# Balance Equation\n",
    "\n",
    "The first step in a simulation is the formation of a model equation. Thus, you should dig up your old lecture notes on the subject of heat and mass transfer and construct the heat balance equation. We will assume an ideal mixing inside the tank, so that the outlet temperature is identical to the temperature at any point inside the tank.\n",
    "\n",
    "The energy balance states that the changes of energy inside the tank is equal to the amount of energy that goes in and out of the system.\n",
    "\n",
    "\\begin{equation} \\label{eq:heatBalance}\n",
    "    \\frac{dU}{dt} = H_{\\alpha} - H_{\\omega} + Q\n",
    "\\end{equation}\n",
    "\n",
    "The change in internal energy can be represented as $\\frac{dU}{dt} = V\\,\\rho\\,c_v\\,\\frac{dT_R}{dt}$. Further, we assume that water is incompressible, hence $c_v = c_p$. The enthalpy stream can be described with $\\dot{H}_i = F\\,\\rho\\,c_p\\,T_i$, With the assumption of ideal mixing, the outflow temperature $T_\\omega$ is equal to the temperature of the tank $T_R$. The result is the following first-order ordinary differential equation:\n",
    "\n",
    "\\begin{align} \\label{eq:tempOde}\n",
    "    \\frac{d T_R}{dt} = \\frac{F}{V}(T_{\\alpha} - T_R) + \\frac{Q}{V\\,\\rho\\,c_p}\n",
    "\\end{align}\n",
    "\n",
    "The balance equation gives us an initial-value problem with $T_R(t=0) = T_\\alpha$."
   ]
  },
  {
   "cell_type": "markdown",
   "metadata": {},
   "source": [
    "# Numerical Methods: Runge-Kutta-Method\n",
    "\n",
    "Despite the fact that the above equation can be analitically solved for a constant heat flow rate $Q$, we will use a numerical method to solve the differential equation, the classical Runge-Kutta-Method. Suppose we have the value of $T_{R,i} \\equiv y_i$ at a specific time $t_i$, the value of $y(t_{i+1})$ for the time $t_{i+1} = t_i + \\Delta{}t$ can be approximated with the weighted sums of the differential itself. With $f(t, y) = \\frac{dT_R}{dt}$:\n",
    "\n",
    "| | | | |\n",
    "|-|-|-|-|\n",
    "| $t_1 = t_i$ | $y_1 = y_i$ | $p_1 = f(t_1, y_1)$ | $k_1 = \\Delta{}t\\,p_1$ |\n",
    "| $t_2 = t_i + \\frac{\\Delta{}t}{2}$ | $y_1 = y_i + \\frac{k_1}{2}$ | $p_2 = f(t_2, y_2)$ | $k_2 = \\Delta{}t\\,p_2$ |\n",
    "| $t_3 = t_i + \\frac{\\Delta{}t}{2}$ | $y_3 = y_i + \\frac{k_2}{2}$ | $p_3 = f(t_3, y_3)$ | $k_3 = \\Delta{}t\\,p_3$ |\n",
    "| $t_4 = t_i + \\Delta{}t$ | $y_4 = y_i + k_3$ | $p_4 = f(t_4, y_4)$ | $k_4 = \\Delta{}t\\,p_4$ |\n",
    "\n",
    "Consequently, the value of $y(t_{i+1})$ will be\n",
    "\\begin{align} \\label{eq:RungeKutta}\n",
    "    y(t_{i+1}) = y_i + \\frac{k_1 + 2k_2 + 2k_3 + k_4}{6}\n",
    "\\end{align}\n"
   ]
  },
  {
   "cell_type": "markdown",
   "metadata": {},
   "source": [
    "# Implementation with Python\n",
    "\n",
    "It is time to implement the simulation in python. We will also use the numpy library for mathematical computing and matplotlib library for plotting. First, we import these libraries and define the differential equation as a function."
   ]
  },
  {
   "cell_type": "code",
   "execution_count": 1,
   "metadata": {},
   "outputs": [],
   "source": [
    "import numpy as np\n",
    "import matplotlib.pyplot as plt\n",
    "plt.rcParams.update({'font.size': 14})\n",
    "\n",
    "def temperature_ode(t: float, T_R: float, params: dict):\n",
    "    '''Differential equation of the heat balance'''\n",
    "    T_in = params['T_in']\n",
    "    F = params['F']\n",
    "    V = params['V']\n",
    "    rho = params['rho']\n",
    "    c_p = params['c_p']\n",
    "    Q = params['Q']\n",
    "    \n",
    "    return (F/V*(T_in - T_R)) + (Q/(V*rho*c_p))"
   ]
  },
  {
   "cell_type": "markdown",
   "metadata": {},
   "source": [
    "Next, we define the parameters as python variables. You might have noticed the `params` argument in the `temperature_ode` function. All of the following parameters will be then passed to the function as one dictionary, a data-type in python. I find this method to be quite convenient."
   ]
  },
  {
   "cell_type": "code",
   "execution_count": 2,
   "metadata": {},
   "outputs": [],
   "source": [
    "F = 0.15e-3    # m^3 s^-1\n",
    "V = 0.01       # m^3\n",
    "T_in = 293.15  # K\n",
    "T_R = T_in     # K\n",
    "Q = 600        # W; initial heat flow rate\n",
    "rho = 997      # kg m^-3\n",
    "c_p = 4.186    # J kg^-1\n",
    "T_set = 315.15 # K\n",
    "\n",
    "dt = 0.1       # s, time step for numerically solving the differential equation\n",
    "\n",
    "params = {'F': F, 'V': V, 'T_in': T_in, 'T_R': T_R, 'Q': Q, 'rho': rho,\n",
    "          'c_p': c_p, 'T_set': T_set, 'dt': dt}"
   ]
  },
  {
   "cell_type": "markdown",
   "metadata": {},
   "source": [
    "In the following function, we define one step of a Runge-Cutta computation."
   ]
  },
  {
   "cell_type": "code",
   "execution_count": 3,
   "metadata": {},
   "outputs": [],
   "source": [
    "def runge_kutta_step(fun: callable, t_0: float, y_0: float, dt: float, *args):\n",
    "    '''Perform one step of classical Runge-Kutta Solver for initial-value problem'''\n",
    "    \n",
    "    t_1 = t_0\n",
    "    y_1 = y_0\n",
    "    k_1 = dt * fun(t_1, y_1, *args)\n",
    "\n",
    "    t_2 = t_1 + 0.5*dt\n",
    "    y_2 = y_1 + 0.5*k_1\n",
    "    k_2 = dt * fun(t_2, y_2, *args)\n",
    "\n",
    "    t_3 = t_2\n",
    "    y_3 = y_1 + 0.5*k_2\n",
    "    k_3 = dt * fun(t_3, y_3, *args)\n",
    "\n",
    "    t_4 = t_1 + dt\n",
    "    y_4 = y_1 + k_3\n",
    "    k_4 = dt * fun(t_4, y_4, *args)\n",
    "\n",
    "    t = t_0 + dt\n",
    "    k = k_1/6 + k_2/3 + k_3/3 + k_4/6\n",
    "    y = y_0 + k\n",
    "    \n",
    "    return (t, y)"
   ]
  },
  {
   "cell_type": "markdown",
   "metadata": {},
   "source": [
    "And now all is set. We can start the simulation. As the temperature output of the tank should be $T_\\omega = 42^\\circ{}C$, we have to calculate the specific heat flow rate needed to reach this end temperature. For this purpose, we will set the balance equation to its stationary state, meaning every time-derivative (in this case $\\frac{dT_R}{dt}$) is set to zero. The resulting equation can be solved to the required heat flow rate\n",
    "\n",
    "\\begin{equation}\\label{eq:stationaryQ}\n",
    "    Q = F\\,\\rho\\,c_p\\,(T_R - T_{\\alpha})\n",
    "\\end{equation}"
   ]
  },
  {
   "cell_type": "code",
   "execution_count": 4,
   "metadata": {},
   "outputs": [
    {
     "name": "stdout",
     "output_type": "stream",
     "text": [
      "For an output temperature of 315.15 K, the required heat flow rate is 13.77 W.\n"
     ]
    }
   ],
   "source": [
    "Q_stat = F*rho*c_p*(T_set - T_in)\n",
    "params['Q'] = Q_stat\n",
    "\n",
    "print(f'For an output temperature of {T_set:.2f} K,' \\\n",
    "      f' the required heat flow rate is {Q_stat:.2f} W.')"
   ]
  },
  {
   "cell_type": "markdown",
   "metadata": {},
   "source": [
    "Thus we will use this heat flow rate in the simulation. To give an idea, how $T_R$ varies with $Q$, we will also simulate the temperature for different $Q$s."
   ]
  },
  {
   "cell_type": "code",
   "execution_count": 5,
   "metadata": {},
   "outputs": [
    {
     "data": {
      "image/png": "[encoded data removed]",
      "text/plain": [
       "<Figure size 576x432 with 1 Axes>"
      ]
     },
     "metadata": {
      "needs_background": "light"
     },
     "output_type": "display_data"
    }
   ],
   "source": [
    "params_1 = params.copy()\n",
    "params_1['Q'] = Q_stat / 2\n",
    "params_2 = params.copy()\n",
    "params_3 = params.copy()\n",
    "params_3['Q'] = Q_stat * 2\n",
    "\n",
    "t_start = 0\n",
    "t_end = 400\n",
    "\n",
    "time = np.arange(t_start, t_end+dt*0.1, dt)\n",
    "temp_1 = np.zeros(len(time))\n",
    "temp_2 = np.zeros(len(time))\n",
    "temp_3 = np.zeros(len(time))\n",
    "\n",
    "for idx, t in enumerate(time):\n",
    "    if idx == 0:\n",
    "        # Set the initial values\n",
    "        temp_1[idx] = T_R\n",
    "        temp_2[idx] = T_R\n",
    "        temp_3[idx] = T_R\n",
    "    else:\n",
    "        _, temp_1[idx] = runge_kutta_step(temperature_ode, t, \n",
    "                                          temp_1[idx-1], dt, params_1)\n",
    "        _, temp_2[idx] = runge_kutta_step(temperature_ode, t, \n",
    "                                          temp_2[idx-1], dt, params_2)\n",
    "        _, temp_3[idx] = runge_kutta_step(temperature_ode, t, \n",
    "                                          temp_3[idx-1], dt, params_3)\n",
    "\n",
    "# Plot result\n",
    "fig, ax = plt.subplots(figsize=(8, 6))\n",
    "ax.plot(time, temp_1-273.15, label=f'$Q = {Q_stat/2:.2f}\\,W$')\n",
    "ax.plot(time, temp_2-273.15, '-g', label=f'$Q = {Q_stat:.2f}\\,W$')\n",
    "ax.plot(time, temp_3-273.15, label=f'$Q = {Q_stat*2:.2f}\\,W$')\n",
    "ax.plot([min(time), max(time)], [42, 42], '--')\n",
    "ax.grid('on')\n",
    "ax.legend()\n",
    "ax.set_xlabel('Time $t$ in s')\n",
    "ax.set_ylabel('Temperature $T_R$ in $^\\circ{}C$')\n",
    "ax.set_xlim([time[0], time[-1]])\n",
    "fig.tight_layout()"
   ]
  },
  {
   "cell_type": "markdown",
   "metadata": {},
   "source": [
    "And the simulation is done. As you can see, our water heater would need roughly $350\\,s$ under the given conditions before reaching the desired temperature. You probably wouldn't want to wait so long (especially in the morning) to get the pleasant warm water. And that is where the concept of control comes in."
   ]
  },
  {
   "cell_type": "markdown",
   "metadata": {},
   "source": [
    "# Temperature Control\n",
    "\n",
    "In the previous figure, we have seen that the stationary outlet temperature $T_R$ depends on the heat input $Q$, where a higher heat rate leads to a higher temperature. If we look at the first 50 seconds, we also see that the higher heat rate results in a faster rise in outlet temperature. Therefore, one idea of control is to change an actuator (in this case the heat flow rate) over the course of time to reach the desired output as quickly as possible.\n",
    "\n",
    "For our case, we will use a feedback controller with classical tuning rules. As a first step, we will take the balance equation:\n",
    "\n",
    "\\begin{align}\n",
    "    \\frac{d T_R}{dt} = \\frac{F}{V}(T_{\\alpha} - T_R) + \\frac{Q}{V\\,\\rho\\,c_p}\n",
    "\\end{align}\n",
    "\n",
    "and perform a Laplace-Transformation on it. Suppose that the laplace transformation of the controlled variable is $\\mathcal{L}\\{T_R\\} = Y(s)$ and the control signal is $\\mathcal{L}\\{Q\\} = U(s)$:\n",
    "\n",
    "\\begin{alignat}{3}\n",
    "    &\\quad& s\\,Y(s) - T_R(t=0) &= \\frac{F}{V}\\left(s\\,T_{\\alpha} - Y(s)\\right) + \\frac{1}{V\\,\\rho\\,c_p}U(s) \\\\\n",
    "    \\Leftrightarrow&\\quad& \\left(s + \\frac{F}{V}\\right)\\,Y(s) &= \\frac{1}{V\\,\\rho\\,c_p}U(s) + \\frac{s\\,F\\,T_\\alpha}{V} + T_R(t=0) \\\\\n",
    "    \\Leftrightarrow&\\quad& Y(s) &= \\frac{1}{V\\,\\rho\\,c_p\\,\\left(s + \\frac{F}{V}\\right)}U(s) + \\frac{s\\,F\\,T_\\alpha}{V\\,\\left(s + \\frac{F}{V}\\right)} + \\frac{T_R(t=0)}{\\left(s + \\frac{F}{V}\\right)}\n",
    "\\end{alignat}\n",
    "\n",
    "In this frequency domain, the system is defined as the transfer function of the control signal $U(s)$ to the controlled variable $Y(s)$.\n",
    "\n",
    "\\begin{align}\n",
    "    G(s) &= \\frac{1}{V\\,\\rho\\,c_p\\,\\left(s + \\frac{F}{V}\\right)} = \\frac{1}{V\\,\\rho\\,c_p\\,s + F\\,\\rho\\,c_p} \\nonumber \\\\\n",
    "    &= \\frac{\\frac{1}{F\\,\\rho\\,c_p}}{\\frac{V}{F}\\,s + 1} \\equiv \\frac{K}{T_1\\,s + 1}\n",
    "\\end{align}\n",
    "\n",
    "In the classical tuning rules by **Ziegler** and **Nichols**, a PI-Controller for the so called PT$_1$-Model above is obtained via the rule $K_P = \\frac{1}{K}$ and $T_I = 0.07\\,T_1$."
   ]
  },
  {
   "cell_type": "code",
   "execution_count": 6,
   "metadata": {},
   "outputs": [
    {
     "name": "stdout",
     "output_type": "stream",
     "text": [
      "The obtained controller parameters are: K_P = 0.63, T_I = 46.67\n"
     ]
    }
   ],
   "source": [
    "# Define controller parameter\n",
    "K = 1 / (F * c_p * rho)\n",
    "T_1 = V / F\n",
    "\n",
    "K_P = 1 / K\n",
    "T_I = T_1 * 0.7\n",
    "\n",
    "print(f\"The obtained controller parameters are: K_P = {K_P:.2f}, T_I = {T_I:.2f}\")"
   ]
  },
  {
   "cell_type": "markdown",
   "metadata": {},
   "source": [
    "We can now simulate these parameters together with the system differential equation from above. To do this, we would also need the following PI-controller equation\n",
    "\n",
    "\\begin{align}\n",
    "    Q(t) = K_P\\,e(t) + \\frac{K_P}{T_I}\\int_0^t e(\\tau)\\,d\\tau\n",
    "\\end{align}\n",
    "\n",
    "The argument $e(t)$ in this integral refers to the error of the controlled variable to its reference signal $e(t) = T_{set} - T_R(t)$. In the implementation, we would approximate the integral with the sum."
   ]
  },
  {
   "cell_type": "code",
   "execution_count": 7,
   "metadata": {},
   "outputs": [],
   "source": [
    "def pi_controller(epsilon: np.ndarray, K_P, T_I, dt):\n",
    "    '''\n",
    "    Implementation of PI-Controller\n",
    "    \n",
    "    epsilon is the error of the controlled variable to its reference, saved as a list.\n",
    "    '''\n",
    "    return K_P * epsilon[-1] + (K_P/T_I)*np.sum(np.multiply(epsilon, dt))"
   ]
  },
  {
   "cell_type": "markdown",
   "metadata": {},
   "source": [
    "All is set, we can now begin the simulation."
   ]
  },
  {
   "cell_type": "code",
   "execution_count": 8,
   "metadata": {},
   "outputs": [
    {
     "data": {
      "image/png": "[encoded data removed]",
      "text/plain": [
       "<Figure size 576x432 with 2 Axes>"
      ]
     },
     "metadata": {
      "needs_background": "light"
     },
     "output_type": "display_data"
    }
   ],
   "source": [
    "t_start = 0\n",
    "t_end = 400\n",
    "\n",
    "time = np.arange(t_start, t_end+dt*0.1, dt)\n",
    "temp = np.zeros(len(time))\n",
    "Q = np.zeros(len(time))\n",
    "epsilon = np.array([])\n",
    "\n",
    "for idx, t in enumerate(time):\n",
    "    if idx == 0:\n",
    "        # Set the initial values\n",
    "        temp[idx] = T_R\n",
    "    else:\n",
    "        epsilon = np.append(epsilon, (T_set - temp[idx-1]))\n",
    "        Q[idx] = pi_controller(epsilon, K_P, T_I, dt)\n",
    "        params['Q'] = Q[idx]\n",
    "        _, temp[idx] = runge_kutta_step(temperature_ode, t, temp[idx-1], dt, params)\n",
    "\n",
    "# Plot result\n",
    "fig, ax = plt.subplots(figsize=(8, 6))\n",
    "\n",
    "ax.plot(time, temp-273.15, 'g')\n",
    "ax.plot([min(time), max(time)], [42, 42], '--')\n",
    "ax.grid('on')\n",
    "ax.set_xlabel('Time $t$ in s')\n",
    "ax.set_ylabel('Temperature $T_R$ in K')\n",
    "ax.set_xlim([time[0], time[-1]])\n",
    "ax.yaxis.label.set_color('g')\n",
    "ax.tick_params(axis='y', colors='g')\n",
    "\n",
    "ax2 = ax.twinx()\n",
    "ax2.plot(time, Q, 'r')\n",
    "ax2.set_ylabel('Heat flow rate $Q$ in W')\n",
    "ax2.yaxis.label.set_color('r')\n",
    "ax2.tick_params(axis='y', colors='r')\n",
    "\n",
    "fig.tight_layout()"
   ]
  },
  {
   "cell_type": "markdown",
   "metadata": {},
   "source": [
    "As you can see, the temperature of the water flowing out of the heater would now reach the desired temperature within roughly 150 s, instead of 300 s as shown in the previous figure. The controller would be able to reduce your waiting time by 50%! On the downside, notice that there are ranges where the water temperature would have exceeded the $42 ^\\circ C$ line. While you probably wouldn't mind a temperature a little bit higher than what you would have set, such oscillating behaviour is quite often undesirable, if not harmful in some occasions. In any cases, an iteration or two of controller's optimization should be done and controllers from a quick tuning rule are far from optimized. Regardless, you should have gotten an idea, how such control system works in general."
   ]
  }
 ],
 "metadata": {
  "kernelspec": {
   "display_name": "Python 3",
   "language": "python",
   "name": "python3"
  },
  "language_info": {
   "codemirror_mode": {
    "name": "ipython",
    "version": 3
   },
   "file_extension": ".py",
   "mimetype": "text/x-python",
   "name": "python",
   "nbconvert_exporter": "python",
   "pygments_lexer": "ipython3",
   "version": "3.7.7"
  },
  "latex_envs": {
   "LaTeX_envs_menu_present": true,
   "autoclose": false,
   "autocomplete": true,
   "bibliofile": "biblio.bib",
   "cite_by": "apalike",
   "current_citInitial": 1,
   "eqLabelWithNumbers": true,
   "eqNumInitial": 1,
   "hotkeys": {
    "equation": "Ctrl-E",
    "itemize": "Ctrl-I"
   },
   "labels_anchors": false,
   "latex_user_defs": false,
   "report_style_numbering": false,
   "user_envs_cfg": false
  },
  "toc": {
   "base_numbering": 1,
   "nav_menu": {},
   "number_sections": true,
   "sideBar": true,
   "skip_h1_title": false,
   "title_cell": "Table of Contents",
   "title_sidebar": "Contents",
   "toc_cell": false,
   "toc_position": {},
   "toc_section_display": true,
   "toc_window_display": false
  },
  "varInspector": {
   "cols": {
    "lenName": 16,
    "lenType": 16,
    "lenVar": 40
   },
   "kernels_config": {
    "python": {
     "delete_cmd_postfix": "",
     "delete_cmd_prefix": "del ",
     "library": "var_list.py",
     "varRefreshCmd": "print(var_dic_list())"
    },
    "r": {
     "delete_cmd_postfix": ") ",
     "delete_cmd_prefix": "rm(",
     "library": "var_list.r",
     "varRefreshCmd": "cat(var_dic_list()) "
    }
   },
   "types_to_exclude": [
    "module",
    "function",
    "builtin_function_or_method",
    "instance",
    "_Feature"
   ],
   "window_display": false
  }
 },
 "nbformat": 4,
 "nbformat_minor": 4
}
