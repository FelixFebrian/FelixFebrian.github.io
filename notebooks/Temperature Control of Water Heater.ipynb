{
 "cells": [
  {
   "cell_type": "markdown",
   "metadata": {},
   "source": [
    "If you lived in first-world countries in the past decades, you are probably fortunate enough to have lived with water heater in your homes, or so I'm told. In Germany, there are seem to be two types of water heater: 1) flow heaters (<i>Durchlauferhitzer</i>), where water will be heated up as it flows out the water tap, or 2) water boiler (<i>Warmwasserspeicher</i>), where warm water is stored in a tank continuously.\n",
    "\n",
    "Out of curiousity, I want to show in the following simulation the functionality and the power consumption of such water heaters. As a model, I will take the version of a water boiler and we will consider following process. The tank of the water boiler has a volume of $V = 10\\,L$. The heating process is electrical with the heat flow $Q$. We will assume that the water is used continuously, meaning the inflow and outflow of the water is constant with $F = 0.15\\,\\frac{L}{s}$. The temperature of the water outlet should be at $42^\\circ{}C$. At the beginning, the tank is already filled with water with the same temperature as the inlet $T_\\alpha = 20^\\circ{}C$.\n",
    "\n",
    "#### Nomeclature\n",
    "| Symbol | |\n",
    "|---|---|\n",
    "| $F$ | Water flow rate in $m^3\\,s^{-1}$ |\n",
    "| $V$ | Tank volume in $m^3$ |\n",
    "| $T$ | Temperature in $K$ |\n",
    "| $Q$ | Heat flow rate in $W$ |\n",
    "| $\\rho$ | Water density in $kg\\,m^{-3}$ |\n",
    "| $c_p$ | Heat capacity of water in $J\\,kg^{-1}\\,K^{-1}$ |"
   ]
  },
  {
   "cell_type": "markdown",
   "metadata": {},
   "source": [
    "# Balance Equation\n",
    "\n",
    "The first step in simulation is the formation of a model equation. Thus, you should dig up your old lecture notes on the subject of heat and mass transfer and construct the heat balance equation. We will assume an ideal mixing inside the tank, so that the outlet temperature is identical to the temperature at any point inside the tank.\n",
    "\n",
    "The energy balance states that the changes of energy inside the tank is equal to the amount of energy that goes in and out of the system.\n",
    "\n",
    "\\begin{equation} \\label{eq:heatBalance}\n",
    "    \\frac{dU}{dt} = \\dot{H}_{\\alpha} - \\dot{H}_{\\omega} + \\dot{Q}\n",
    "\\end{equation}\n",
    "\n",
    "The change in internal energy can be represented as $\\frac{dU}{dt} = V\\,\\rho\\,c_v\\,\\frac{dT_R}{dt}$. Further, we assume that water is incompressible, hence $c_v = c_p$ <cite data-cite=\"Baehr2013\">(Baehr, 2013)</cite>. The enthalpy stream can be described with $\\dot{H}_i = F\\,\\rho\\,c_p\\,T_i$, With the assumption of ideal mixing, the outflow temperature $T_\\omega$ is equal to the temperature of the tank $T_R$. The result is the following first-order ordinary differential equation:\n",
    "\n",
    "\\begin{align} \\label{eq:tempOde}\n",
    "    \\frac{d T_R}{dt} = \\frac{F}{V}(T_{\\alpha} - T_R) + \\frac{Q}{V\\,\\rho\\,c_p}\n",
    "\\end{align}\n",
    "\n",
    "The balance equation gives us an initial-value problem with $T_R(t=0) = T_\\alpha$."
   ]
  },
  {
   "cell_type": "markdown",
   "metadata": {},
   "source": [
    "# Numerical Methods: Runge-Kutta-Method\n",
    "\n",
    "Despite the fact that the Equation (\\ref{eq:tempOde}) can be analitically solved for a constant heat flow rate $Q$, we will use numerical method the differential equation, the classical Runge-Kutta-Method. Suppose we have the value of $T_{R,i} \\equiv y_i$ at a specific time $t_i$, the value of $y(t_{i+1})$ for the time $t_{i+1} = t_i + \\Delta{}t$ can be approximated with the weighted sums of the differential itself. With $f(t, y) = \\frac{dT_R}{dt}$:\n",
    "\n",
    "| | | | |\n",
    "|-|-|-|-|\n",
    "| $t_1 = t_i$ | $y_1 = y_i$ | $p_1 = f(t_1, y_1)$ | $k_1 = \\Delta{}t\\,p_1$ |\n",
    "| $t_2 = t_i + \\frac{\\Delta{}t}{2}$ | $y_1 = y_i + \\frac{k_1}{2}$ | $p_2 = f(t_2, y_2)$ | $k_2 = \\Delta{}t\\,p_2$ |\n",
    "| $t_3 = t_i + \\frac{\\Delta{}t}{2}$ | $y_3 = y_i + \\frac{k_2}{2}$ | $p_3 = f(t_3, y_3)$ | $k_3 = \\Delta{}t\\,p_3$ |\n",
    "| $t_4 = t_i + \\Delta{}t$ | $y_4 = y_i + k_3$ | $p_4 = f(t_4, y_4)$ | $k_4 = \\Delta{}t\\,p_4$ |\n",
    "\n",
    "With the value of $y(t_{i+1})$\n",
    "\\begin{align} \\label{eq:RungeKutta}\n",
    "    y(t_{i+1}) = y_i + \\frac{k_1 + 2k_2 + 2k_3 + k_4}{6}\n",
    "\\end{align}\n"
   ]
  },
  {
   "cell_type": "markdown",
   "metadata": {},
   "source": [
    "# Implementation with Python\n",
    "\n",
    "It is time to implement the simulation in python. We will also use the numpy library for mathematical computing and matplotlib library for plotting. First, we import these libraries and define the differential equation as a function."
   ]
  },
  {
   "cell_type": "code",
   "execution_count": 1,
   "metadata": {},
   "outputs": [],
   "source": [
    "import numpy as np\n",
    "import matplotlib.pyplot as plt\n",
    "plt.rcParams.update({'font.size': 14})\n",
    "\n",
    "def temperature_ode(t: float, T_R: float, params: dict):\n",
    "    '''Differential equation of the heat balance'''\n",
    "    T_in = params['T_in']\n",
    "    F = params['F']\n",
    "    V = params['V']\n",
    "    rho = params['rho']\n",
    "    c_p = params['c_p']\n",
    "    Q = params['Q']\n",
    "    \n",
    "    return (F/V*(T_in - T_R)) + (Q/(V*rho*c_p))"
   ]
  },
  {
   "cell_type": "markdown",
   "metadata": {},
   "source": [
    "Next, we define the parameters as python variables. You might have noticed the `params` argument in the `temperature_ode` function. All of the following parameters will be then passed to the function as one dictionary, a data-type in python. I find this method to be quite convenient."
   ]
  },
  {
   "cell_type": "code",
   "execution_count": 2,
   "metadata": {},
   "outputs": [],
   "source": [
    "F = 0.15e-3    # m^3 s^-1\n",
    "V = 0.01       # m^3\n",
    "T_in = 293.15  # K\n",
    "T_R = T_in     # K\n",
    "Q = 600        # W; initial heat flow rate\n",
    "rho = 997      # kg m^-3\n",
    "c_p = 4.186    # J kg^-1\n",
    "T_set = 315.15 # K\n",
    "\n",
    "dt = 0.1       # s, time step for numerically solving the differential equation\n",
    "\n",
    "params = {'F': F, 'V': V, 'T_in': T_in, 'T_R': T_R, 'Q': Q, 'rho': rho,\n",
    "          'c_p': c_p, 'T_set': T_set, 'dt': dt}"
   ]
  },
  {
   "cell_type": "markdown",
   "metadata": {},
   "source": [
    "In the following function, we define one step of a Runge-Cutta computation."
   ]
  },
  {
   "cell_type": "code",
   "execution_count": 3,
   "metadata": {},
   "outputs": [],
   "source": [
    "def runge_kutta_step(fun: callable, t_0: float, y_0: float, dt: float, *args):\n",
    "    '''Perform one step of classical Runge-Kutta Solver for initial-value problem'''\n",
    "    \n",
    "    t_1 = t_0\n",
    "    y_1 = y_0\n",
    "    k_1 = dt * fun(t_1, y_1, *args)\n",
    "\n",
    "    t_2 = t_1 + 0.5*dt\n",
    "    y_2 = y_1 + 0.5*k_1\n",
    "    k_2 = dt * fun(t_2, y_2, *args)\n",
    "\n",
    "    t_3 = t_2\n",
    "    y_3 = y_1 + 0.5*k_2\n",
    "    k_3 = dt * fun(t_3, y_3, *args)\n",
    "\n",
    "    t_4 = t_1 + dt\n",
    "    y_4 = y_1 + k_3\n",
    "    k_4 = dt * fun(t_4, y_4, *args)\n",
    "\n",
    "    t = t_0 + dt\n",
    "    k = k_1/6 + k_2/3 + k_3/3 + k_4/6\n",
    "    y = y_0 + k\n",
    "    \n",
    "    return (t, y)"
   ]
  },
  {
   "cell_type": "markdown",
   "metadata": {},
   "source": [
    "And all is now set. We can now start the simulation. As the temperature output of the tank should be $T_\\omega = 42^\\circ{}C$, we have to calculate the specific heat flow rate needed to reach this end temperature. For this purpose, we will set Equation (\\ref{eq:tempOde}) to its stationary state, meaning every time-derivative (in this case $\\frac{dT_R}{dt}$) is set to zero. The resulting equation can be solved to the required heat flow rate\n",
    "\n",
    "\\begin{equation}\\label{eq:stationaryQ}\n",
    "    Q = F\\,\\rho\\,c_p\\,(T_R - T_{\\alpha})\n",
    "\\end{equation}"
   ]
  },
  {
   "cell_type": "code",
   "execution_count": 4,
   "metadata": {},
   "outputs": [
    {
     "name": "stdout",
     "output_type": "stream",
     "text": [
      "For an output temperature of 315.15 K, the required heat flow rate is 13.77 W.\n"
     ]
    }
   ],
   "source": [
    "Q_stat = F*rho*c_p*(T_set - T_in)\n",
    "params['Q'] = Q_stat\n",
    "\n",
    "print(f'For an output temperature of {T_set:.2f} K,' \\\n",
    "      f' the required heat flow rate is {Q_stat:.2f} W.')"
   ]
  },
  {
   "cell_type": "markdown",
   "metadata": {},
   "source": [
    "Thus we will use this heat flow rate in the simulation. To give an idea, how $T_R$ varies with $Q$, we will also simulate the temperature for different $Q$s."
   ]
  },
  {
   "cell_type": "code",
   "execution_count": 5,
   "metadata": {},
   "outputs": [
    {
     "data": {
      "image/png": "[encoded data removed]",
      "text/plain": [
       "<Figure size 576x432 with 1 Axes>"
      ]
     },
     "metadata": {
      "needs_background": "light"
     },
     "output_type": "display_data"
    }
   ],
   "source": [
    "params_1 = params.copy()\n",
    "params_2 = params.copy()\n",
    "params_2['Q'] = Q_stat / 2\n",
    "params_3 = params.copy()\n",
    "params_3['Q'] = Q_stat * 2\n",
    "\n",
    "t_start = 0\n",
    "t_end = 400\n",
    "\n",
    "time = np.arange(t_start, t_end+dt*0.1, dt)\n",
    "temp_1 = np.zeros(len(time))\n",
    "temp_2 = np.zeros(len(time))\n",
    "temp_3 = np.zeros(len(time))\n",
    "\n",
    "for idx, t in enumerate(time):\n",
    "    if idx == 0:\n",
    "        # Set the initial values\n",
    "        temp_1[idx] = T_R\n",
    "        temp_2[idx] = T_R\n",
    "        temp_3[idx] = T_R\n",
    "    else:\n",
    "        _, temp_1[idx] = runge_kutta_step(temperature_ode, t, \n",
    "                                          temp_1[idx-1], dt, params_1)\n",
    "        _, temp_2[idx] = runge_kutta_step(temperature_ode, t, \n",
    "                                          temp_2[idx-1], dt, params_2)\n",
    "        _, temp_3[idx] = runge_kutta_step(temperature_ode, t, \n",
    "                                          temp_3[idx-1], dt, params_3)\n",
    "\n",
    "# Plot result\n",
    "fig, ax = plt.subplots(figsize=(8, 6))\n",
    "ax.plot(time, temp_1-273.15, label=f'$Q = {Q_stat:.2f}\\,W$')\n",
    "ax.plot(time, temp_2-273.15, label=f'$Q = {Q_stat/2:.2f}\\,W$')\n",
    "ax.plot(time, temp_3-273.15, label=f'$Q = {Q_stat*2:.2f}\\,W$')\n",
    "ax.plot([min(time), max(time)], [42, 42], '--')\n",
    "ax.grid('on')\n",
    "ax.legend()\n",
    "ax.set_xlabel('Time $t$ in s')\n",
    "ax.set_ylabel('Temperature $T_R$ in $^\\circ{}C$')\n",
    "ax.set_xlim([time[0], time[-1]])\n",
    "fig.tight_layout()"
   ]
  },
  {
   "cell_type": "markdown",
   "metadata": {},
   "source": [
    "And the simulation is done. As you can see, our water heater would need roughly $350\\,s$ under the given condition before reaching the desired temperature. You probably wouldn't want to wait so long (especially in the mornings) to get the pleasant warm water. And that is where the concept of control comes in."
   ]
  },
  {
   "cell_type": "markdown",
   "metadata": {},
   "source": [
    "# Temperature Control\n",
    "\n",
    "In the previous figure, we have seen that the stationary outlet temperature $T_R$ depends on the heat input $Q$, where a higher heat rate leads to a higher temperature. If we look at the first 50 seconds, we also see that the higher heat rate results in a faster rise in outlet temperature. Therefore, one idea of control is to change an actuator (in this case the heat flow rate) over the course of time to reach the desired output as quickly as possible.\n",
    "\n",
    "For our case, we will use a feedback controller with classical tuning rules. As first step, we will take the balance equation:\n",
    "\n",
    "\\begin{align}\n",
    "    \\frac{d T_R}{dt} = \\frac{F}{V}(T_{\\alpha} - T_R) + \\frac{Q}{V\\,\\rho\\,c_p}\n",
    "\\end{align}\n",
    "\n",
    "and perform a Laplace-Transformation on it. Suppose that \n",
    "\n",
    "\\begin{align}\n",
    "\\end{align}"
   ]
  },
  {
   "cell_type": "code",
   "execution_count": 6,
   "metadata": {},
   "outputs": [
    {
     "data": {
      "image/png": "[encoded data removed]",
      "text/plain": [
       "<Figure size 576x432 with 2 Axes>"
      ]
     },
     "metadata": {
      "needs_background": "light"
     },
     "output_type": "display_data"
    }
   ],
   "source": [
    "def pi_controller(epsilon, K_P, T_I, dt):\n",
    "    return K_P * epsilon[-1] + (K_P/T_I)*np.sum(np.multiply(epsilon, dt))\n",
    "\n",
    "t_end = 50\n",
    "\n",
    "time = np.arange(0, t_end+dt*0.1, dt)\n",
    "temp = np.zeros(len(time))\n",
    "Q = np.zeros(len(time))\n",
    "\n",
    "K_P = 20\n",
    "T_I = 10\n",
    "\n",
    "for idx, t in enumerate(time):\n",
    "    if idx == 0:\n",
    "        temp[idx] = T_R\n",
    "        epsilon = np.array([])\n",
    "    else:\n",
    "        epsilon = np.append(epsilon, (T_set - temp[idx-1]))\n",
    "        Q[idx] = pi_controller(epsilon, K_P, T_I, dt)\n",
    "        params['Q'] = Q[idx]\n",
    "        _, temp[idx] = runge_kutta_step(temperature_ode, t, temp[idx-1], dt, params)\n",
    "\n",
    "fig, ax = plt.subplots(figsize=(8, 6))\n",
    "ax.plot(time, temp, 'g')\n",
    "ax.grid('on')\n",
    "ax.set_xlabel('Time $t$ in s')\n",
    "ax.set_ylabel('Temperature $T_R$ in K')\n",
    "ax.set_xlim([time[0], time[-1]])\n",
    "ax.yaxis.label.set_color('g')\n",
    "ax.tick_params(axis='y', colors='g')\n",
    "\n",
    "ax2 = ax.twinx()\n",
    "ax2.plot(time, Q, 'r')\n",
    "ax2.set_ylabel('Heat flow rate $Q$ in W')\n",
    "ax2.yaxis.label.set_color('r')\n",
    "ax2.tick_params(axis='y', colors='r')\n",
    "\n",
    "fig.tight_layout()"
   ]
  },
  {
   "cell_type": "markdown",
   "metadata": {},
   "source": [
    "\\begin{align}\n",
    "    \\frac{d T_R}{dt} = \\frac{F}{V}(T_{\\alpha} - T_R) + \\frac{Q}{V\\,\\rho\\,c_p}\n",
    "\\end{align}"
   ]
  },
  {
   "cell_type": "markdown",
   "metadata": {},
   "source": [
    "\\begin{align}\n",
    "    s\\,Y(s) = \\frac{F}{V}\\,T_\\alpha - \\frac{F}{V}\\,Y(s) + \\frac{1}{V\\,\\rho\\,c_p}\\,U(s)\n",
    "\\end{align}"
   ]
  },
  {
   "cell_type": "markdown",
   "metadata": {},
   "source": [
    "\\begin{align}\n",
    "    \\dot{x} = \\begin{pmatrix} 0 & 0 \\\\ \\frac{F}{R} & -\\frac{F}{R} \\end{pmatrix}\\,x + \\begin{pmatrix} 0 \\\\ \\frac{1}{V\\,\\rho\\,c_p} \\end{pmatrix}\\,u \\\\\n",
    "    y = \\begin{pmatrix} 0 & 1 \\end{pmatrix}\\,x\n",
    "\\end{align}"
   ]
  },
  {
   "cell_type": "code",
   "execution_count": 7,
   "metadata": {},
   "outputs": [],
   "source": [
    "import control\n",
    "\n",
    "A = np.array([[0, 0], [F/V, -F/V]])\n",
    "B = np.array([[0], [1/(V*rho*c_p)]])\n",
    "C = np.array([0, 1])\n",
    "D = 0\n",
    "sys = control.ss(A, B, C, D)"
   ]
  },
  {
   "cell_type": "code",
   "execution_count": 8,
   "metadata": {},
   "outputs": [],
   "source": [
    "G = control.ss2tf(sys)"
   ]
  },
  {
   "cell_type": "code",
   "execution_count": 9,
   "metadata": {},
   "outputs": [
    {
     "data": {
      "text/latex": [
       "$$\\frac{0.02396}{s + 0.015}$$"
      ],
      "text/plain": [
       "\n",
       " 0.02396\n",
       "---------\n",
       "s + 0.015"
      ]
     },
     "execution_count": 9,
     "metadata": {},
     "output_type": "execute_result"
    }
   ],
   "source": [
    "G"
   ]
  },
  {
   "cell_type": "code",
   "execution_count": 10,
   "metadata": {},
   "outputs": [
    {
     "data": {
      "text/latex": [
       "$$\\frac{200 s + 20}{10 s}$$"
      ],
      "text/plain": [
       "\n",
       "200 s + 20\n",
       "----------\n",
       "   10 s"
      ]
     },
     "execution_count": 10,
     "metadata": {},
     "output_type": "execute_result"
    }
   ],
   "source": [
    "s = control.tf([1, 0], [1])\n",
    "K = K_P + K_P/(T_I*s)\n",
    "K"
   ]
  },
  {
   "cell_type": "code",
   "execution_count": 11,
   "metadata": {},
   "outputs": [
    {
     "data": {
      "image/png": "[encoded data removed]",
      "text/plain": [
       "<Figure size 432x288 with 2 Axes>"
      ]
     },
     "metadata": {
      "needs_background": "light"
     },
     "output_type": "display_data"
    }
   ],
   "source": [
    "L = K * G\n",
    "L_bode = control.bode_plot(L)"
   ]
  },
  {
   "cell_type": "code",
   "execution_count": 12,
   "metadata": {},
   "outputs": [
    {
     "data": {
      "text/plain": [
       "[<matplotlib.lines.Line2D at 0x120df0550>]"
      ]
     },
     "execution_count": 12,
     "metadata": {},
     "output_type": "execute_result"
    },
    {
     "data": {
      "image/png": "[encoded data removed]",
      "text/plain": [
       "<Figure size 432x288 with 1 Axes>"
      ]
     },
     "metadata": {
      "needs_background": "light"
     },
     "output_type": "display_data"
    }
   ],
   "source": [
    "T = L/(1+L)\n",
    "T_step = control.step_response(T)\n",
    "plt.plot(T_step[0], T_step[1])"
   ]
  },
  {
   "cell_type": "code",
   "execution_count": 13,
   "metadata": {},
   "outputs": [],
   "source": [
    "wU = control.tf([20], [1])\n",
    "M = 1.5\n",
    "omegaB = 1e2\n",
    "A = 1e-4\n",
    "wP = (s/M + omegaB) / (s + omegaB*A)\n",
    "K = control.mixsyn(G, wP, wU, wU)"
   ]
  },
  {
   "cell_type": "code",
   "execution_count": 14,
   "metadata": {},
   "outputs": [
    {
     "data": {
      "text/latex": [
       "$$\\frac{9.654 \\times 10^{10} s + 1.448 \\times 10^{9}}{s^2 + 6.769 \\times 10^{9} s + 6.769 \\times 10^{7}}$$"
      ],
      "text/plain": [
       "\n",
       "   9.654e+10 s + 1.448e+09\n",
       "-----------------------------\n",
       "s^2 + 6.769e+09 s + 6.769e+07"
      ]
     },
     "execution_count": 14,
     "metadata": {},
     "output_type": "execute_result"
    }
   ],
   "source": [
    "K_tf = control.tf(K[0])\n",
    "K_tf"
   ]
  },
  {
   "cell_type": "code",
   "execution_count": 15,
   "metadata": {},
   "outputs": [
    {
     "data": {
      "text/plain": [
       "[<matplotlib.lines.Line2D at 0x120e0d910>]"
      ]
     },
     "execution_count": 15,
     "metadata": {},
     "output_type": "execute_result"
    },
    {
     "data": {
      "image/png": "[encoded data removed]",
      "text/plain": [
       "<Figure size 432x288 with 1 Axes>"
      ]
     },
     "metadata": {
      "needs_background": "light"
     },
     "output_type": "display_data"
    }
   ],
   "source": [
    "L = K_tf * G\n",
    "T = L/(1+L)\n",
    "S = 1 - T\n",
    "T_step = control.step_response(T)\n",
    "KS_step = control.step_response(K_tf*S)\n",
    "plt.plot(T_step[0], T_step[1])\n",
    "plt.plot(KS_step[0], KS_step[1])"
   ]
  },
  {
   "cell_type": "markdown",
   "metadata": {},
   "source": [
    "@book{ Baehr2013,\n",
    "    title = \"Wärme- und Stoffübertragung\",\n",
    "    title_sort = \"Wärme- und Stoffübertragung\",\n",
    "    author_sort = \"Baehr, Hans D. \\& Stephan, Karl\",\n",
    "    author = \"Hans D. Baehr and Karl Stephan\",\n",
    "    note = \"Dieses bereits in dritter Auflage vorliegende Lehrbuch ist eine umfassende und gründliche Darstellung der Wärme- und Stoffübertragung. Ihre Theorie wird systematisch entwickelt, und die Lösungsmethoden aller wichtigen Probleme werden ausführlich behandelt. Daher eignet sich dieses Buch nicht nur für Studenten, sondern nützt auch Wissenschaftlern und Ingenieuren in der Praxis als zuverlässiges Nachschlagewerk. Alle Gebiete der Wärme- und Stoffübertragung werden dargestellt: Wärmeleitung und Diffusion, konvektiver Wärme- und Stoffaustausch, Wärmetransport beim Kondensieren und Verdampfen, die Wärmestrahlung sowie die Berechnung der Wärme- und Stoffübertragung. Zahlreiche durchgerechnete Beispiele sowie Übungsaufgaben und Lösungen erleichtern das Verständnis.\n",
    "\",\n",
    "    cover = \"/Users/felixfebrian/Google Drive/CalibreLibrary/Hans D. Baehr/Warme- und Stoffubertragung (92)/cover.jpg\",\n",
    "    formats = \"pdf\",\n",
    "    calibreid = \"92\",\n",
    "    isbn = \"978-36-6210-835-2\",\n",
    "    library_name = \"CalibreLibrary\",\n",
    "    year = \"2013\",\n",
    "    month = \"Apr\",\n",
    "    publisher = \"Springer-Verlag\",\n",
    "    volume = \"1\",\n",
    "    size = \"21403691 octets\",\n",
    "    tags = \"Science, Mechanics, Thermodynamics, Physics, Condensed Matter, Chemistry, Industrial \\& Technical, General\",\n",
    "    timestamp = \"2020-06-07\",\n",
    "    uuid = \"b8143a2c-3266-405c-98fb-7c8aeea95ea8\",\n",
    "    languages = \"deu\",\n",
    "    identifiers = \"google:QGS0BgAAQBAJ,isbn:9783662108352\" }"
   ]
  },
  {
   "cell_type": "code",
   "execution_count": null,
   "metadata": {},
   "outputs": [],
   "source": []
  }
 ],
 "metadata": {
  "kernelspec": {
   "display_name": "Python 3",
   "language": "python",
   "name": "python3"
  },
  "language_info": {
   "codemirror_mode": {
    "name": "ipython",
    "version": 3
   },
   "file_extension": ".py",
   "mimetype": "text/x-python",
   "name": "python",
   "nbconvert_exporter": "python",
   "pygments_lexer": "ipython3",
   "version": "3.7.7"
  },
  "latex_envs": {
   "LaTeX_envs_menu_present": true,
   "autoclose": false,
   "autocomplete": true,
   "bibliofile": "biblio.bib",
   "cite_by": "apalike",
   "current_citInitial": 1,
   "eqLabelWithNumbers": true,
   "eqNumInitial": 1,
   "hotkeys": {
    "equation": "Ctrl-E",
    "itemize": "Ctrl-I"
   },
   "labels_anchors": false,
   "latex_user_defs": false,
   "report_style_numbering": false,
   "user_envs_cfg": false
  },
  "toc": {
   "base_numbering": 1,
   "nav_menu": {},
   "number_sections": true,
   "sideBar": true,
   "skip_h1_title": false,
   "title_cell": "Table of Contents",
   "title_sidebar": "Contents",
   "toc_cell": false,
   "toc_position": {},
   "toc_section_display": true,
   "toc_window_display": false
  },
  "varInspector": {
   "cols": {
    "lenName": 16,
    "lenType": 16,
    "lenVar": 40
   },
   "kernels_config": {
    "python": {
     "delete_cmd_postfix": "",
     "delete_cmd_prefix": "del ",
     "library": "var_list.py",
     "varRefreshCmd": "print(var_dic_list())"
    },
    "r": {
     "delete_cmd_postfix": ") ",
     "delete_cmd_prefix": "rm(",
     "library": "var_list.r",
     "varRefreshCmd": "cat(var_dic_list()) "
    }
   },
   "types_to_exclude": [
    "module",
    "function",
    "builtin_function_or_method",
    "instance",
    "_Feature"
   ],
   "window_display": false
  }
 },
 "nbformat": 4,
 "nbformat_minor": 4
}
